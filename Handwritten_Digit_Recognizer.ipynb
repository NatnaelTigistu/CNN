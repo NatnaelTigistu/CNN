{
  "nbformat": 4,
  "nbformat_minor": 0,
  "metadata": {
    "colab": {
      "provenance": [],
      "gpuType": "T4",
      "mount_file_id": "1A5yHhjoxk_RuVCvop5aYxNZgK4t5lg1F",
      "authorship_tag": "ABX9TyNqyN9Hqd4FqKXBif8G4buZ",
      "include_colab_link": true
    },
    "kernelspec": {
      "name": "python3",
      "display_name": "Python 3"
    },
    "language_info": {
      "name": "python"
    },
    "accelerator": "GPU"
  },
  "cells": [
    {
      "cell_type": "markdown",
      "metadata": {
        "id": "view-in-github",
        "colab_type": "text"
      },
      "source": [
        "<a href=\"https://colab.research.google.com/github/NatnaelTigistu/CNN/blob/main/Handwritten_Digit_Recognizer.ipynb\" target=\"_parent\"><img src=\"https://colab.research.google.com/assets/colab-badge.svg\" alt=\"Open In Colab\"/></a>"
      ]
    },
    {
      "cell_type": "code",
      "execution_count": null,
      "metadata": {
        "id": "2BiKP0H4sRbW"
      },
      "outputs": [],
      "source": [
        "import numpy as np\n",
        "import cv2\n",
        "import matplotlib.pyplot as plt\n",
        "import tensorflow as tf\n",
        "from tensorflow.keras import layers, models\n",
        "(x_train, y_train), (x_test, y_test) = tf.keras.datasets.mnist.load_data()\n",
        "x_train = x_train.astype('float32') / 255.0\n",
        "x_test = x_test.astype('float32') / 255.0\n",
        "x_train = np.expand_dims(x_train, -1)\n",
        "x_test = np.expand_dims(x_test, -1)\n",
        "model = models.Sequential([\n",
        "    layers.Conv2D(32, (3,3), activation='relu', input_shape=(28,28,1)),\n",
        "    layers.MaxPooling2D((2,2)),\n",
        "    layers.Conv2D(64, (3,3), activation='relu'),\n",
        "    layers.MaxPooling2D((2,2)),\n",
        "    layers.Flatten(),\n",
        "    layers.Dense(128, activation='relu'),\n",
        "    layers.Dropout(0.5),\n",
        "    layers.Dense(10, activation='softmax')\n",
        "])\n",
        "model.compile(optimizer='adam',\n",
        "              loss='sparse_categorical_crossentropy',\n",
        "              metrics=['accuracy'])\n",
        "history = model.fit(x_train, y_train,\n",
        "                    epochs=12,\n",
        "                    batch_size=128,\n",
        "                    validation_split=0.1,\n",
        "                    verbose=2)\n"
      ]
    },
    {
      "cell_type": "code",
      "metadata": {
        "colab": {
          "base_uri": "https://localhost:8080/",
          "height": 463
        },
        "id": "62d76f85",
        "outputId": "a1ff7c0d-5c20-40a1-ad90-77d3301e29e5"
      },
      "source": [
        "import cv2\n",
        "import numpy as np\n",
        "import tensorflow as tf\n",
        "from tensorflow.keras import layers, models\n",
        "import matplotlib.pyplot as plt\n",
        "\n",
        "img_path = '/content/drive/MyDrive/Colab Notebooks/Screenshot 2025-09-26 104903.png' # Change this to the path of your new image\n",
        "\n",
        "img = cv2.imread(img_path) # Load image\n",
        "\n",
        "if img is not None:\n",
        "    # Convert image to grayscale\n",
        "    img = cv2.cvtColor(img, cv2.COLOR_BGR2GRAY)\n",
        "\n",
        "    # Resize the image to 28x28 pixels\n",
        "    img = cv2.resize(img, (28, 28))\n",
        "\n",
        "    # Invert colors if background is white (average pixel value is high)\n",
        "    if np.mean(img) > 128: # Assuming 128 is a good threshold for white background\n",
        "        img = cv2.bitwise_not(img)\n",
        "\n",
        "    # Display the preprocessed image\n",
        "    plt.imshow(img, cmap='gray')\n",
        "    plt.title(\"Preprocessed Image\")\n",
        "    plt.axis('off')\n",
        "    plt.show()\n",
        "\n",
        "    img = img.astype('float32') / 255.0\n",
        "    img = np.expand_dims(img, axis=-1) # Add channel dimension\n",
        "    img = np.expand_dims(img, axis=0) # Add batch dimension\n",
        "\n",
        "    prediction = model.predict(img)\n",
        "    print(\"Predicted digit:\", np.argmax(prediction))\n",
        "else:\n",
        "    print(f\"Error: Could not load image from {img_path}. Please check the file path.\")"
      ],
      "execution_count": null,
      "outputs": [
        {
          "output_type": "display_data",
          "data": {
            "text/plain": [
              "<Figure size 640x480 with 1 Axes>"
            ],
            "image/png": "[encoded data removed]"
          },
          "metadata": {}
        },
        {
          "output_type": "stream",
          "name": "stdout",
          "text": [
            "\u001b[1m1/1\u001b[0m \u001b[32m━━━━━━━━━━━━━━━━━━━━\u001b[0m\u001b[37m\u001b[0m \u001b[1m0s\u001b[0m 30ms/step\n",
            "Predicted digit: 4\n"
          ]
        }
      ]
    },
    {
      "cell_type": "code",
      "source": [
        "import matplotlib.pyplot as plt\n",
        "import numpy as np\n",
        "\n",
        "# Pick one test image\n",
        "idx = 665\n",
        "img = x_test[idx].reshape(1,28,28,1)\n",
        "\n",
        "# Predict\n",
        "prediction = model.predict(img)\n",
        "predicted_label = np.argmax(prediction)\n",
        "\n",
        "# Show result\n",
        "plt.imshow(x_test[idx].reshape(28,28), cmap=\"gray\")\n",
        "plt.title(f\"Predicted: {predicted_label}, Actual: {y_test[idx]}\")\n",
        "plt.show()\n"
      ],
      "metadata": {
        "colab": {
          "base_uri": "https://localhost:8080/",
          "height": 469
        },
        "id": "P5F7Nkl8909e",
        "outputId": "532931e5-ddc9-40b9-fdf9-a3c6f6a36ef9"
      },
      "execution_count": null,
      "outputs": [
        {
          "output_type": "stream",
          "name": "stdout",
          "text": [
            "\u001b[1m1/1\u001b[0m \u001b[32m━━━━━━━━━━━━━━━━━━━━\u001b[0m\u001b[37m\u001b[0m \u001b[1m0s\u001b[0m 30ms/step\n"
          ]
        },
        {
          "output_type": "display_data",
          "data": {
            "text/plain": [
              "<Figure size 640x480 with 1 Axes>"
            ],
            "image/png": "[encoded data removed]"
          },
          "metadata": {}
        }
      ]
    }
  ]
}